{
 "cells": [
  {
   "cell_type": "code",
   "execution_count": 9,
   "metadata": {},
   "outputs": [
    {
     "name": "stdout",
     "output_type": "stream",
     "text": [
      "   id  name surname                 email           password    location  \\\n",
      "0   1  John     Doe  john.doe@example.com  securepassword123    New York   \n",
      "1   2    Jo      Do    jo.doe@example.com  securepassword123  New Jersey   \n",
      "\n",
      "   ranking  \n",
      "0      4.8  \n",
      "1      4.8  \n"
     ]
    }
   ],
   "source": [
    "import sqlite3\n",
    "import pandas as pd\n",
    "from user import User\n",
    "\n",
    "def load_data_from_sqlite(db_path, query):\n",
    "    \"\"\"\n",
    "    Load data from an SQLite database into a Pandas DataFrame.\n",
    "\n",
    "    Args:\n",
    "        db_path (str): The file path to the SQLite database.\n",
    "        query (str): SQL query to fetch the data.\n",
    "\n",
    "    Returns:\n",
    "        pd.DataFrame: DataFrame containing the results of the SQL query.\n",
    "    \"\"\"\n",
    "    # Establish a connection to the SQLite database\n",
    "    conn = sqlite3.connect(db_path)\n",
    "\n",
    "    # Use pandas to query the database and load the data into a DataFrame\n",
    "    df = pd.read_sql_query(query, conn)\n",
    "\n",
    "    # Close the database connection\n",
    "    conn.close()\n",
    "\n",
    "    return df\n",
    "\n",
    "# Example usage\n",
    "db_path = 'C:/Users/sotir/Desktop/backend/users.db'  # Adjust the path as needed\n",
    "query = \"SELECT * FROM users\"  # Adjust the SQL query as needed\n",
    "dataframe = load_data_from_sqlite(db_path, query)\n",
    "\n",
    "print(dataframe)\n"
   ]
  },
  {
   "cell_type": "code",
   "execution_count": 10,
   "metadata": {},
   "outputs": [
    {
     "data": {
      "text/html": [
       "<div>\n",
       "<style scoped>\n",
       "    .dataframe tbody tr th:only-of-type {\n",
       "        vertical-align: middle;\n",
       "    }\n",
       "\n",
       "    .dataframe tbody tr th {\n",
       "        vertical-align: top;\n",
       "    }\n",
       "\n",
       "    .dataframe thead th {\n",
       "        text-align: right;\n",
       "    }\n",
       "</style>\n",
       "<table border=\"1\" class=\"dataframe\">\n",
       "  <thead>\n",
       "    <tr style=\"text-align: right;\">\n",
       "      <th></th>\n",
       "      <th>id</th>\n",
       "      <th>name</th>\n",
       "      <th>surname</th>\n",
       "      <th>email</th>\n",
       "      <th>password</th>\n",
       "      <th>location</th>\n",
       "      <th>ranking</th>\n",
       "    </tr>\n",
       "  </thead>\n",
       "  <tbody>\n",
       "    <tr>\n",
       "      <th>0</th>\n",
       "      <td>1</td>\n",
       "      <td>John</td>\n",
       "      <td>Doe</td>\n",
       "      <td>john.doe@example.com</td>\n",
       "      <td>securepassword123</td>\n",
       "      <td>New York</td>\n",
       "      <td>4.8</td>\n",
       "    </tr>\n",
       "    <tr>\n",
       "      <th>1</th>\n",
       "      <td>2</td>\n",
       "      <td>Jo</td>\n",
       "      <td>Do</td>\n",
       "      <td>jo.doe@example.com</td>\n",
       "      <td>securepassword123</td>\n",
       "      <td>New Jersey</td>\n",
       "      <td>4.8</td>\n",
       "    </tr>\n",
       "  </tbody>\n",
       "</table>\n",
       "</div>"
      ],
      "text/plain": [
       "   id  name surname                 email           password    location  \\\n",
       "0   1  John     Doe  john.doe@example.com  securepassword123    New York   \n",
       "1   2    Jo      Do    jo.doe@example.com  securepassword123  New Jersey   \n",
       "\n",
       "   ranking  \n",
       "0      4.8  \n",
       "1      4.8  "
      ]
     },
     "execution_count": 10,
     "metadata": {},
     "output_type": "execute_result"
    }
   ],
   "source": [
    "dataframe"
   ]
  },
  {
   "cell_type": "code",
   "execution_count": 8,
   "metadata": {},
   "outputs": [],
   "source": [
    "user = User(\"Jo\", \"Do\", \"jo.doe@example.com\", \"securepassword123\", \"New Jersey\")\n",
    "User.setup_database()  # Initialize the database and tables\n",
    "user.save()  # Save the user to the database"
   ]
  },
  {
   "cell_type": "code",
   "execution_count": null,
   "metadata": {},
   "outputs": [],
   "source": []
  },
  {
   "cell_type": "code",
   "execution_count": null,
   "metadata": {},
   "outputs": [],
   "source": []
  },
  {
   "cell_type": "code",
   "execution_count": 3,
   "metadata": {},
   "outputs": [],
   "source": [
    "from pathlib import Path"
   ]
  },
  {
   "cell_type": "code",
   "execution_count": null,
   "metadata": {},
   "outputs": [],
   "source": [
    "db_path = parent_directory / 'users.db'"
   ]
  },
  {
   "cell_type": "code",
   "execution_count": null,
   "metadata": {},
   "outputs": [],
   "source": []
  },
  {
   "cell_type": "code",
   "execution_count": null,
   "metadata": {},
   "outputs": [],
   "source": []
  }
 ],
 "metadata": {
  "kernelspec": {
   "display_name": "Python 3",
   "language": "python",
   "name": "python3"
  },
  "language_info": {
   "codemirror_mode": {
    "name": "ipython",
    "version": 3
   },
   "file_extension": ".py",
   "mimetype": "text/x-python",
   "name": "python",
   "nbconvert_exporter": "python",
   "pygments_lexer": "ipython3",
   "version": "3.7.6"
  }
 },
 "nbformat": 4,
 "nbformat_minor": 4
}
